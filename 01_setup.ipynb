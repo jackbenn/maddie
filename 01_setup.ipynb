{
 "cells": [
  {
   "cell_type": "markdown",
   "id": "5619e508",
   "metadata": {},
   "source": [
    "# Setup\n",
    "\n",
    "We'll start with setting up your computer and learning a bit about getting around in the terminal.\n",
    "\n",
    "First, go to https://www.anaconda.com/ and download and install that. Anaconda contain a recent version of python (the one installed on MacOS is really old) along with all the common libraries you might use.\n",
    "\n",
    "## The unix shell \n",
    "Once that's done open up a Terminal window (either by looking in the Utilities folder of Applications, or just typing \"terminal\" in the search icon in the upper right of your computer). That terminal window includes a what's called a shell, which is a program for interpreting commands you type in. That's what we'll use to interact with the various files on your computer. In many ways it's better than the graphical interface, but it's just a bit less intuitive.\n",
    "\n",
    "There are a bunch of commands you need to know. For the moment, we'll start with `pwd`, `ls`, and `cd`. Type those in the terminal and see if you can figure out what those do (Hint: `cd` is more useful with an argument).\n",
    "\n",
    "### Common commands\n",
    "\n",
    "The first, `pwd` (print working directory), prints the full directory path the shell is currently in. There's a whole directory hierarchy; you've probably seen this as folders inside of folders inside of folders. The subdirectories are separated by slashes ('/'); the top level (root) directory is a single slash. You start off in your **home directory**, which is something like `/Users/maddie`. If other people were using your machine they would have their own directory under `/Users`.\n",
    "\n",
    "Most of your files will be underneath your home directory, though there are many, many other files in your computer that are necessary for it to work.\n",
    "\n",
    "\n",
    "You can see the files in a directory with the `ls` (list) command. It has a few common options you should try out.\n",
    "\n",
    " * `ls -l`: list a directory in long format. You don't need to worry about all of what it says now, just that the left-most character tells whether something is a directory (`d`) or regular file (`-`). Other information includes the size of the file and the last time it was changed.\n",
    " * `ls -a`: list all the files in a directory, including those that start with `.` (these are hidden by default; generally these are configuration files but also the special directories `..` and `.`).\n",
    "\n",
    "You can go to another directory with `cd` (change directory). Try this with another directory (which you identify using `ls -l`) and then verify the path with `pwd` and see what files are in it. You can go to the parent directory with `cd ..`, and back to your home directory with `cd ~`.\n",
    "\n",
    "Another useful command is `mkdir` (make directory). Go back to your home directory and type `mkdir git`; that's where you're going to download this repository save all your code. You can remove an empty directory with `rmdir` if you do this wrong.\n",
    "\n",
    "## Creating a github account\n",
    "\n",
    "(do we need to do this yet?)\n",
    "\n",
    "## Cloning this repository\n",
    "\n",
    "Next you'll clone everything in repository to your computer with the command `git`. Git version control system that has a lot of parts and ubiquitous in computer engineering these days. We'll talk more about that later; for we're just going to copy these files locally.\n",
    "\n",
    "Go to the `git` directory you created and type\n",
    "\n",
    "`git clone https://github.com/jackbenn/maddie`\n",
    "\n",
    "That will create a directory called `maddie`; if you use `cd` to go to that directory you can see the files in it. You can look at the contents of a file with the `cat` command (concatenate, because it can be used for multiple files). Doing `cat README.md` will show you how the markdown files are formatted. The results of doing `cat` on this file may not make much sense.\n",
    "\n",
    "## Starting jupyter\n",
    "\n",
    "From within the `maddie` directory, type\n",
    "\n",
    "`jupyter lab`\n",
    "\n",
    "Jupyter (from Julia, Python, and R, three computer languages it supports) is development environment that supports interactive notebooks (the `ipynb` extension of this file stands for interactive python notebook). These notebooks are a great way to get started in programming and to test and explore things. They aren't the way large programs are written, but we'll talk about that later. And they can teach bad habits, so I'll try to warn you about that.\n",
    "\n",
    "We'll get started with python in the next notebook. Open up the file `02_notebooks.ipynb` in Jupyter Lab (you can open up this file, but it doesn't really do anything)."
   ]
  }
 ],
 "metadata": {
  "kernelspec": {
   "display_name": "Python 3",
   "language": "python",
   "name": "python3"
  },
  "language_info": {
   "codemirror_mode": {
    "name": "ipython",
    "version": 3
   },
   "file_extension": ".py",
   "mimetype": "text/x-python",
   "name": "python",
   "nbconvert_exporter": "python",
   "pygments_lexer": "ipython3",
   "version": "3.8.8"
  }
 },
 "nbformat": 4,
 "nbformat_minor": 5
}
