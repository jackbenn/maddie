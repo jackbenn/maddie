{
 "cells": [
  {
   "cell_type": "markdown",
   "id": "da4dec7f-1b3b-44ed-9d1d-c06251f4e5e4",
   "metadata": {},
   "source": [
    "# Introducing notebooks\n",
    "\n",
    "If you haven't already done so, open up this file in Jupyter (by running `jupyter lab` from a terminal, navigating to the file, and opening it up). You can look at it in gitub, but this is supposed to be interactive; you won't learn much by just reading.\n",
    "\n",
    "First, notice that there are a bunch of cells in the notebook. There are two kinds of cells: Markdown and Code (there's also Raw but we'll never use that). The text you're reading is in a Markdown cell; the ones with the `[ ]:` next to them are code cells.\n",
    "\n",
    "If you double-click on this text you can edit it. There's *a lot* of formatting stuff I won't talk much about now, like\n",
    " * *italics*,\n",
    " * **boldface**, and\n",
    " * [links](https://github.com/jackbenn/maddie).\n",
    "\n",
    "Try editing some stuff here and then do shift-enter (hit enter while holding the shift key) to re-format it."
   ]
  },
  {
   "cell_type": "markdown",
   "id": "2bdd3adb-6294-4a6a-97a3-08d9cfc88f7f",
   "metadata": {},
   "source": [
    "Code cells contain python code. To execute the code in a cell, do shift-enter from the cell. Try that for the cell below."
   ]
  },
  {
   "cell_type": "code",
   "execution_count": 10,
   "id": "7293dbaa-3890-4745-8c79-e4a26468b001",
   "metadata": {},
   "outputs": [
    {
     "data": {
      "text/plain": [
       "5"
      ]
     },
     "execution_count": 10,
     "metadata": {},
     "output_type": "execute_result"
    }
   ],
   "source": [
    "2 + 3"
   ]
  },
  {
   "cell_type": "markdown",
   "id": "8ab09f9a-47ff-4621-9c73-e6fd8ecf3967",
   "metadata": {},
   "source": [
    "Did you get 5 for the output? Spend a few minutes typing and executing equations in the cell below, using the operators `+`, `-`, `*`, `/`, `%`, and `**`, along with paretheses. See if you can figure out how precedence works (does `1 + 2 * 3` give what you expect?)."
   ]
  },
  {
   "cell_type": "code",
   "execution_count": null,
   "id": "685f0b5d-5234-4ed9-9632-fb4fbd9ee749",
   "metadata": {},
   "outputs": [],
   "source": []
  },
  {
   "cell_type": "markdown",
   "id": "4a7b3ada-3d64-4500-8c84-0ac11e18aca6",
   "metadata": {},
   "source": [
    "You can have multiple lines of code in a cell and they will all be executed but jupyter will only output the result of the last line."
   ]
  },
  {
   "cell_type": "code",
   "execution_count": 3,
   "id": "e6c94f2b-4e3a-408d-9c86-d535723c79f5",
   "metadata": {},
   "outputs": [
    {
     "data": {
      "text/plain": [
       "4"
      ]
     },
     "execution_count": 3,
     "metadata": {},
     "output_type": "execute_result"
    }
   ],
   "source": [
    "1 + 1\n",
    "2 + 2"
   ]
  },
  {
   "cell_type": "markdown",
   "id": "bea1194b-d6b5-4f48-8d07-2739382014b5",
   "metadata": {},
   "source": [
    "If you played with `/` you probably notice it returns a floating-point number. Python (like most languages) manages floats different from intergers internally. You can use them interchangeably but they are different objects as you can see from running this."
   ]
  },
  {
   "cell_type": "code",
   "execution_count": 11,
   "id": "fdc89ae3-af88-4a85-8d4f-27cbb5b7a398",
   "metadata": {},
   "outputs": [
    {
     "data": {
      "text/plain": [
       "1.0"
      ]
     },
     "execution_count": 11,
     "metadata": {},
     "output_type": "execute_result"
    }
   ],
   "source": [
    "1 / 2 * 2"
   ]
  },
  {
   "cell_type": "markdown",
   "id": "838d63de-fe51-48a8-9f67-13879292fec4",
   "metadata": {},
   "source": [
    "I'll use the term **object** a lot; in python it's just some piece of data, including code that tells it it should act in various situations (e.g., the code on how to add two integers). There are many types of objects; another one is a `bool` (Boolean). A boolean has a value of either `True` or `False`.\n",
    "\n",
    "Before running each of these, think about what you expect for the output."
   ]
  },
  {
   "cell_type": "code",
   "execution_count": 12,
   "id": "792afe35-9d3c-47bb-b99e-c61dd9af85bc",
   "metadata": {},
   "outputs": [
    {
     "data": {
      "text/plain": [
       "False"
      ]
     },
     "execution_count": 12,
     "metadata": {},
     "output_type": "execute_result"
    }
   ],
   "source": [
    "1 > 2"
   ]
  },
  {
   "cell_type": "code",
   "execution_count": 13,
   "id": "ddb5ba52-d2f8-481c-abb8-0197cf79e81b",
   "metadata": {},
   "outputs": [
    {
     "data": {
      "text/plain": [
       "True"
      ]
     },
     "execution_count": 13,
     "metadata": {},
     "output_type": "execute_result"
    }
   ],
   "source": [
    "1 <= 2"
   ]
  },
  {
   "cell_type": "code",
   "execution_count": 14,
   "id": "a3e4d726-5dd8-4074-ba8b-ff29476932d7",
   "metadata": {},
   "outputs": [
    {
     "data": {
      "text/plain": [
       "True"
      ]
     },
     "execution_count": 14,
     "metadata": {},
     "output_type": "execute_result"
    }
   ],
   "source": [
    "1 == 1.0"
   ]
  },
  {
   "cell_type": "code",
   "execution_count": 15,
   "id": "32b62f80-0675-43fd-9ac9-0e2d861744d5",
   "metadata": {},
   "outputs": [
    {
     "data": {
      "text/plain": [
       "True"
      ]
     },
     "execution_count": 15,
     "metadata": {},
     "output_type": "execute_result"
    }
   ],
   "source": [
    "(4 != 2 * 2) or (1 != 3)"
   ]
  },
  {
   "cell_type": "markdown",
   "id": "ec9d8d1c-5e50-4475-b36d-dc766cdcfdac",
   "metadata": {},
   "source": [
    "In python, `==` is an operator to test if two things are equal (`=` is used for assignment as we'll see later). `!=` is not-equal. Experment with the comparison operators (`<`, `<=`, `>`, `>=`, `==`, `!=`) and the logical operators (`and`, `or`, `not`, and `xor`) to see how they work and what their precedence is (i.e., which operate first).\n",
    "\n",
    "All the things we talked about above are called **expressions**. An expression is some code, a combination of things with operators that can be evaluated to produce some value."
   ]
  },
  {
   "cell_type": "code",
   "execution_count": null,
   "id": "05bf7305-c19d-47cb-933d-eb4829b96593",
   "metadata": {},
   "outputs": [],
   "source": []
  }
 ],
 "metadata": {
  "kernelspec": {
   "display_name": "Python 3",
   "language": "python",
   "name": "python3"
  },
  "language_info": {
   "codemirror_mode": {
    "name": "ipython",
    "version": 3
   },
   "file_extension": ".py",
   "mimetype": "text/x-python",
   "name": "python",
   "nbconvert_exporter": "python",
   "pygments_lexer": "ipython3",
   "version": "3.8.8"
  }
 },
 "nbformat": 4,
 "nbformat_minor": 5
}
