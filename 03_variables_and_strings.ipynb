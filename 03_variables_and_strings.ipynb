{
 "cells": [
  {
   "cell_type": "markdown",
   "id": "2bc5e02f-c43a-49d3-8b7c-1b32d7c5be10",
   "metadata": {},
   "source": [
    "# Variables\n",
    "\n",
    "A **variable** in python is a label for an object. You can set a variable equal to something with the `=` operator."
   ]
  },
  {
   "cell_type": "code",
   "execution_count": 6,
   "id": "cb19ae02-f58e-4c55-ab13-525abbf8fc2f",
   "metadata": {},
   "outputs": [],
   "source": [
    "a = 2"
   ]
  },
  {
   "cell_type": "markdown",
   "id": "94d3e589-96c9-4206-9b59-a40aca72abf3",
   "metadata": {},
   "source": [
    "and then later use that in an expression:"
   ]
  },
  {
   "cell_type": "code",
   "execution_count": 7,
   "id": "036c3188-c6e1-4057-919a-22ebb5ca467a",
   "metadata": {},
   "outputs": [
    {
     "data": {
      "text/plain": [
       "7"
      ]
     },
     "execution_count": 7,
     "metadata": {},
     "output_type": "execute_result"
    }
   ],
   "source": [
    "a + 5"
   ]
  },
  {
   "cell_type": "markdown",
   "id": "5b4a9e9d-4c05-4af4-ac87-5fa78471a2dc",
   "metadata": {},
   "source": [
    "Variable names in python must be composed of letters, digits, or underscores, and the first character can't be a digit. Case matters in python, so `A` and `a` are completely different variables.\n",
    "\n",
    "By convention (and this is a pretty strong convention; if you don't follow it people will look at you funny), you should use lower case for variable names (there are a couple exceptions I'll get to later) and if there contain multple words they should be separated by underscores. Long names are good if you think you might forget what a variable is supposed to hold; one saying I like is \"be kind to your future self.\"\n",
    "\n",
    "But don't overthink it."
   ]
  },
  {
   "cell_type": "code",
   "execution_count": 10,
   "id": "3397bb1d-355c-4ccf-8aa2-a71f46852ad7",
   "metadata": {},
   "outputs": [],
   "source": [
    "this_is_a_variable_name = 1"
   ]
  },
  {
   "cell_type": "markdown",
   "id": "283628a5-4178-45eb-8323-a12fa39fca70",
   "metadata": {},
   "source": [
    "Variables in python are pretty easy to use. Unlike some other languages, they don't have a particular type, so you can assign them to something completely different (though this makes it easier to confuse things later)."
   ]
  },
  {
   "cell_type": "code",
   "execution_count": 11,
   "id": "f550a91a-1c26-4389-8338-582152443b8d",
   "metadata": {},
   "outputs": [
    {
     "data": {
      "text/plain": [
       "1"
      ]
     },
     "execution_count": 11,
     "metadata": {},
     "output_type": "execute_result"
    }
   ],
   "source": [
    "a = 1\n",
    "a"
   ]
  },
  {
   "cell_type": "code",
   "execution_count": 13,
   "id": "8571b4ae-9a10-48f0-a02f-73e42031e76d",
   "metadata": {},
   "outputs": [
    {
     "data": {
      "text/plain": [
       "3.5"
      ]
     },
     "execution_count": 13,
     "metadata": {},
     "output_type": "execute_result"
    }
   ],
   "source": [
    "a = 3.5\n",
    "a"
   ]
  },
  {
   "cell_type": "code",
   "execution_count": 15,
   "id": "478731af-97e9-4d9b-9075-511268e3871d",
   "metadata": {},
   "outputs": [
    {
     "data": {
      "text/plain": [
       "True"
      ]
     },
     "execution_count": 15,
     "metadata": {},
     "output_type": "execute_result"
    }
   ],
   "source": [
    "a = True\n",
    "a"
   ]
  },
  {
   "cell_type": "code",
   "execution_count": 17,
   "id": "7f6d7af0-d77f-400e-9825-1840692c8442",
   "metadata": {},
   "outputs": [
    {
     "data": {
      "text/plain": [
       "'This is a string'"
      ]
     },
     "execution_count": 17,
     "metadata": {},
     "output_type": "execute_result"
    }
   ],
   "source": [
    "a = \"This is a string\"\n",
    "a"
   ]
  },
  {
   "cell_type": "markdown",
   "id": "b859e6f4-46ff-402b-b19e-6299221b917f",
   "metadata": {},
   "source": [
    "## Strings\n",
    "\n",
    "A string is another type of object in python (so far we've cooverted integers, floats, and booleans). It's a list of characters of any kind (unicode chacters, but only look that up of you're interseted in learning right now about how characters in different languages are stored in a computer). You can use either either single or double quotes to surrond them; mostly you'll use one or the other because you want to put the other inside the string."
   ]
  },
  {
   "cell_type": "code",
   "execution_count": 18,
   "id": "af2fe930-2de0-4904-986b-938664a24c83",
   "metadata": {},
   "outputs": [
    {
     "data": {
      "text/plain": [
       "\"Here's a string with a single quote inside.\""
      ]
     },
     "execution_count": 18,
     "metadata": {},
     "output_type": "execute_result"
    }
   ],
   "source": [
    "\"Here's a string with a single quote inside.\""
   ]
  },
  {
   "cell_type": "code",
   "execution_count": 19,
   "id": "8fa1ca78-43b1-4fd2-9a19-39bea3fb65e2",
   "metadata": {},
   "outputs": [
    {
     "data": {
      "text/plain": [
       "'This string has a \"quotes\" other stuff.'"
      ]
     },
     "execution_count": 19,
     "metadata": {},
     "output_type": "execute_result"
    }
   ],
   "source": [
    "'This string has a \"quotes\" other stuff.'"
   ]
  },
  {
   "cell_type": "code",
   "execution_count": 23,
   "id": "7beabc29-9311-465c-a484-e28170afbd58",
   "metadata": {},
   "outputs": [
    {
     "name": "stdout",
     "output_type": "stream",
     "text": [
      "If you need both you'll need a backslash (\"\\\"). Don't worry about that now.\n"
     ]
    }
   ],
   "source": [
    "print(\"If you need both you'll need a backslash (\\\"\\\\\\\"). Don't worry about that now.\")"
   ]
  },
  {
   "cell_type": "markdown",
   "id": "d67c20a1-cbcd-4a76-bff2-4f3c235fb204",
   "metadata": {},
   "source": [
    "You'll notice I introduced a the `print` function above. I'll talk more about that later."
   ]
  },
  {
   "cell_type": "code",
   "execution_count": null,
   "id": "6bccc0f4-1c5f-4659-b78a-e80ffbd3baff",
   "metadata": {},
   "outputs": [],
   "source": []
  }
 ],
 "metadata": {
  "kernelspec": {
   "display_name": "Python 3",
   "language": "python",
   "name": "python3"
  },
  "language_info": {
   "codemirror_mode": {
    "name": "ipython",
    "version": 3
   },
   "file_extension": ".py",
   "mimetype": "text/x-python",
   "name": "python",
   "nbconvert_exporter": "python",
   "pygments_lexer": "ipython3",
   "version": "3.8.8"
  }
 },
 "nbformat": 4,
 "nbformat_minor": 5
}
