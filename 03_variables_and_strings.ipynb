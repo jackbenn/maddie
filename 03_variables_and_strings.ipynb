{
 "cells": [
  {
   "cell_type": "markdown",
   "id": "2bc5e02f-c43a-49d3-8b7c-1b32d7c5be10",
   "metadata": {},
   "source": [
    "# Variables\n",
    "\n",
    "A **variable** in python is a label for an object. You can set a variable equal to something with the `=` operator."
   ]
  },
  {
   "cell_type": "code",
   "execution_count": 1,
   "id": "cb19ae02-f58e-4c55-ab13-525abbf8fc2f",
   "metadata": {},
   "outputs": [],
   "source": [
    "a = 2"
   ]
  },
  {
   "cell_type": "markdown",
   "id": "94d3e589-96c9-4206-9b59-a40aca72abf3",
   "metadata": {},
   "source": [
    "and then later use that in an expression:"
   ]
  },
  {
   "cell_type": "code",
   "execution_count": 2,
   "id": "036c3188-c6e1-4057-919a-22ebb5ca467a",
   "metadata": {},
   "outputs": [
    {
     "data": {
      "text/plain": [
       "7"
      ]
     },
     "execution_count": 2,
     "metadata": {},
     "output_type": "execute_result"
    }
   ],
   "source": [
    "a + 5"
   ]
  },
  {
   "cell_type": "markdown",
   "id": "5b4a9e9d-4c05-4af4-ac87-5fa78471a2dc",
   "metadata": {},
   "source": [
    "Variable names in python must be composed of letters, digits, or underscores, and the first character can't be a digit. Case matters in python, so `A` and `a` are completely different variables.\n",
    "\n",
    "By convention (and this is a pretty strong convention; if you don't follow it people will look at you funny), you should use lower case for variable names (there are a couple exceptions I'll get to later) and if there contain multple words they should be separated by underscores. Long names are good if you think you might forget what a variable is supposed to hold; one saying I like is \"be kind to your future self.\"\n",
    "\n",
    "But don't overthink it."
   ]
  },
  {
   "cell_type": "code",
   "execution_count": 3,
   "id": "3397bb1d-355c-4ccf-8aa2-a71f46852ad7",
   "metadata": {},
   "outputs": [],
   "source": [
    "this_is_a_variable_name = 1"
   ]
  },
  {
   "cell_type": "markdown",
   "id": "283628a5-4178-45eb-8323-a12fa39fca70",
   "metadata": {},
   "source": [
    "Variables in python are pretty easy to use. Unlike some other languages, they don't have a particular type, so you can assign them to something completely different (though this makes it easier to confuse things later)."
   ]
  },
  {
   "cell_type": "code",
   "execution_count": 4,
   "id": "f550a91a-1c26-4389-8338-582152443b8d",
   "metadata": {},
   "outputs": [
    {
     "data": {
      "text/plain": [
       "1"
      ]
     },
     "execution_count": 4,
     "metadata": {},
     "output_type": "execute_result"
    }
   ],
   "source": [
    "a = 1\n",
    "a"
   ]
  },
  {
   "cell_type": "code",
   "execution_count": 5,
   "id": "8571b4ae-9a10-48f0-a02f-73e42031e76d",
   "metadata": {},
   "outputs": [
    {
     "data": {
      "text/plain": [
       "3.5"
      ]
     },
     "execution_count": 5,
     "metadata": {},
     "output_type": "execute_result"
    }
   ],
   "source": [
    "a = 3.5\n",
    "a"
   ]
  },
  {
   "cell_type": "code",
   "execution_count": 6,
   "id": "478731af-97e9-4d9b-9075-511268e3871d",
   "metadata": {},
   "outputs": [
    {
     "data": {
      "text/plain": [
       "True"
      ]
     },
     "execution_count": 6,
     "metadata": {},
     "output_type": "execute_result"
    }
   ],
   "source": [
    "a = True\n",
    "a"
   ]
  },
  {
   "cell_type": "markdown",
   "id": "9de15013",
   "metadata": {},
   "source": [
    "You can even assign a variable based on it's current value. In the example below, the right-hand side of statement is evaluated first, and then the result is assigned to the variable on the left."
   ]
  },
  {
   "cell_type": "code",
   "execution_count": 7,
   "id": "cb1ad985",
   "metadata": {},
   "outputs": [
    {
     "data": {
      "text/plain": [
       "11"
      ]
     },
     "execution_count": 7,
     "metadata": {},
     "output_type": "execute_result"
    }
   ],
   "source": [
    "a = 10\n",
    "a = a + 1\n",
    "a"
   ]
  },
  {
   "cell_type": "markdown",
   "id": "4fcc3332",
   "metadata": {},
   "source": [
    "That sort of thing is so common that there are special operators to make that easier. The above is equivalent to:"
   ]
  },
  {
   "cell_type": "code",
   "execution_count": 8,
   "id": "1f7e06b7",
   "metadata": {},
   "outputs": [
    {
     "data": {
      "text/plain": [
       "11"
      ]
     },
     "execution_count": 8,
     "metadata": {},
     "output_type": "execute_result"
    }
   ],
   "source": [
    "a = 10\n",
    "a += 1\n",
    "a"
   ]
  },
  {
   "cell_type": "markdown",
   "id": "47a277ea",
   "metadata": {},
   "source": [
    "Other such operators (`-=`, `*=`, etc.) are less common."
   ]
  },
  {
   "cell_type": "markdown",
   "id": "b859e6f4-46ff-402b-b19e-6299221b917f",
   "metadata": {},
   "source": [
    "## Strings\n",
    "\n",
    "A string is another type of object in python (so far we've converted integers, floats, and booleans). It's a list of characters of any kind (Unicode characters, but only look that up of you're interested in learning right now about how characters in different languages are stored in a computer). You can use either either single or double quotes to surround them; mostly you'll use one or the other because you want to put the other inside the string."
   ]
  },
  {
   "cell_type": "code",
   "execution_count": 9,
   "id": "af2fe930-2de0-4904-986b-938664a24c83",
   "metadata": {},
   "outputs": [
    {
     "data": {
      "text/plain": [
       "\"Here's a string with a single quote inside.\""
      ]
     },
     "execution_count": 9,
     "metadata": {},
     "output_type": "execute_result"
    }
   ],
   "source": [
    "\"Here's a string with a single quote inside.\""
   ]
  },
  {
   "cell_type": "code",
   "execution_count": 10,
   "id": "8fa1ca78-43b1-4fd2-9a19-39bea3fb65e2",
   "metadata": {},
   "outputs": [
    {
     "data": {
      "text/plain": [
       "'This string has a \"quotes\" other stuff.'"
      ]
     },
     "execution_count": 10,
     "metadata": {},
     "output_type": "execute_result"
    }
   ],
   "source": [
    "'This string has a \"quotes\" other stuff.'"
   ]
  },
  {
   "cell_type": "code",
   "execution_count": 11,
   "id": "7beabc29-9311-465c-a484-e28170afbd58",
   "metadata": {},
   "outputs": [
    {
     "name": "stdout",
     "output_type": "stream",
     "text": [
      "If you need both you'll need a backslash (\"\\\"). Don't worry about that now.\n"
     ]
    }
   ],
   "source": [
    "print(\"If you need both you'll need a backslash (\\\"\\\\\\\"). Don't worry about that now.\")"
   ]
  },
  {
   "cell_type": "markdown",
   "id": "d67c20a1-cbcd-4a76-bff2-4f3c235fb204",
   "metadata": {},
   "source": [
    "You'll notice I introduced a the `print` function above. Note there's a difference between the `print` function (which formats things for reading) and just outputting the results: "
   ]
  },
  {
   "cell_type": "code",
   "execution_count": 12,
   "id": "6bccc0f4-1c5f-4659-b78a-e80ffbd3baff",
   "metadata": {},
   "outputs": [
    {
     "data": {
      "text/plain": [
       "'If you need both you\\'ll need a backslash (\"\\\\\"). Don\\'t worry about that now.'"
      ]
     },
     "execution_count": 12,
     "metadata": {},
     "output_type": "execute_result"
    }
   ],
   "source": [
    "\"If you need both you'll need a backslash (\\\"\\\\\\\"). Don't worry about that now.\""
   ]
  },
  {
   "cell_type": "markdown",
   "id": "334ff0f8",
   "metadata": {},
   "source": [
    "Although function are really, incredibly important for all kinds of things, I'll talk more them later. Consider this to be foreshadowing.\n",
    "\n",
    "We can do a lot more with strings, but I'll just mention that some operators work on them."
   ]
  },
  {
   "cell_type": "code",
   "execution_count": 13,
   "id": "7ac43c8c",
   "metadata": {},
   "outputs": [
    {
     "data": {
      "text/plain": [
       "'Foo  bar'"
      ]
     },
     "execution_count": 13,
     "metadata": {},
     "output_type": "execute_result"
    }
   ],
   "source": [
    "\"Foo \" + \" bar\""
   ]
  },
  {
   "cell_type": "code",
   "execution_count": 14,
   "id": "69689035",
   "metadata": {},
   "outputs": [
    {
     "data": {
      "text/plain": [
       "'aaaaaaaaaa'"
      ]
     },
     "execution_count": 14,
     "metadata": {},
     "output_type": "execute_result"
    }
   ],
   "source": [
    "\"a\" * 10"
   ]
  },
  {
   "cell_type": "markdown",
   "id": "5a02db47",
   "metadata": {},
   "source": [
    "And you can assign variables to strings."
   ]
  },
  {
   "cell_type": "code",
   "execution_count": 15,
   "id": "7f6d7af0-d77f-400e-9825-1840692c8442",
   "metadata": {},
   "outputs": [
    {
     "data": {
      "text/plain": [
       "'This is a string'"
      ]
     },
     "execution_count": 15,
     "metadata": {},
     "output_type": "execute_result"
    }
   ],
   "source": [
    "a = \"This is a string\"\n",
    "a"
   ]
  },
  {
   "cell_type": "markdown",
   "id": "8422488e",
   "metadata": {},
   "source": [
    "If you want a multi-line string there are a couple approaches. First, you can put **newline** characters inside of a string using `\\n` (backslashes are special in strings in lots of languages)."
   ]
  },
  {
   "cell_type": "code",
   "execution_count": 16,
   "id": "7714f214",
   "metadata": {},
   "outputs": [
    {
     "name": "stdout",
     "output_type": "stream",
     "text": [
      "This is a string\n",
      "slipt over\n",
      "multiple lines.\n"
     ]
    }
   ],
   "source": [
    "long_string = \"This is a string\\nslipt over\\nmultiple lines.\"\n",
    "print(long_string)"
   ]
  },
  {
   "cell_type": "markdown",
   "id": "50997493",
   "metadata": {},
   "source": [
    "Our you can put them inside sets of three quotes (either single or double)."
   ]
  },
  {
   "cell_type": "code",
   "execution_count": 17,
   "id": "de3d7b18",
   "metadata": {},
   "outputs": [
    {
     "name": "stdout",
     "output_type": "stream",
     "text": [
      "This is\n",
      "a string spread\n",
      "out over several lines\n",
      "using triple quotes.\n",
      "\n"
     ]
    }
   ],
   "source": [
    "longer_string = \"\"\"This is\n",
    "a string spread\n",
    "out over several lines\n",
    "using triple quotes.\n",
    "\"\"\"\n",
    "print(longer_string)"
   ]
  },
  {
   "cell_type": "markdown",
   "id": "64aa2ff5",
   "metadata": {},
   "source": [
    "We'll see more on those later, talking about docstrings in functions."
   ]
  },
  {
   "cell_type": "code",
   "execution_count": null,
   "id": "138d1e9a",
   "metadata": {},
   "outputs": [],
   "source": []
  }
 ],
 "metadata": {
  "kernelspec": {
   "display_name": "Python 3",
   "language": "python",
   "name": "python3"
  },
  "language_info": {
   "codemirror_mode": {
    "name": "ipython",
    "version": 3
   },
   "file_extension": ".py",
   "mimetype": "text/x-python",
   "name": "python",
   "nbconvert_exporter": "python",
   "pygments_lexer": "ipython3",
   "version": "3.8.8"
  }
 },
 "nbformat": 4,
 "nbformat_minor": 5
}
