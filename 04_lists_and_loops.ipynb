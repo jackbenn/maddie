{
 "cells": [
  {
   "cell_type": "markdown",
   "id": "d66de9de-e081-4369-b8e1-8c798b8472c6",
   "metadata": {},
   "source": [
    "# Lists and loops\n",
    "\n",
    "We've covered four types of objects so far. (what are they again?) The next is a **list**, which is a sequence of other objects. Lists are delimited by square brackets."
   ]
  },
  {
   "cell_type": "code",
   "execution_count": 9,
   "id": "6588e3cb-5e53-4b1e-95bd-25ecc24ea83b",
   "metadata": {},
   "outputs": [
    {
     "data": {
      "text/plain": [
       "[1, 2, 3, 4, 5, 6, 7, 8]"
      ]
     },
     "execution_count": 9,
     "metadata": {},
     "output_type": "execute_result"
    }
   ],
   "source": [
    "numbers = [1, 2, 3, 4, 5, 6, 7, 8]\n",
    "numbers"
   ]
  },
  {
   "cell_type": "markdown",
   "id": "97560cb4",
   "metadata": {},
   "source": [
    "You can put anything in lists: `float`s, `int`s, `str`s, or `bool`s."
   ]
  },
  {
   "cell_type": "code",
   "execution_count": 10,
   "id": "7c59e91a",
   "metadata": {},
   "outputs": [
    {
     "data": {
      "text/plain": [
       "[2.1828, 42, 'foo', True]"
      ]
     },
     "execution_count": 10,
     "metadata": {},
     "output_type": "execute_result"
    }
   ],
   "source": [
    "[2.1828, 42, \"foo\", True]"
   ]
  },
  {
   "cell_type": "markdown",
   "id": "363ab09b",
   "metadata": {},
   "source": [
    "You can reference a element of a list using brackets."
   ]
  },
  {
   "cell_type": "code",
   "execution_count": 11,
   "id": "be7aba1e",
   "metadata": {},
   "outputs": [
    {
     "data": {
      "text/plain": [
       "3"
      ]
     },
     "execution_count": 11,
     "metadata": {},
     "output_type": "execute_result"
    }
   ],
   "source": [
    "numbers[2]"
   ]
  },
  {
   "cell_type": "raw",
   "id": "ef83dce9",
   "metadata": {},
   "source": [
    "Huh.\n",
    "\n",
    "Python uses zero-based indexing; the first element if a list is index 0, the next is index 1, and so on. So the list element is the length of the list minus 1."
   ]
  },
  {
   "cell_type": "code",
   "execution_count": 12,
   "id": "06c1b4d3",
   "metadata": {},
   "outputs": [
    {
     "data": {
      "text/plain": [
       "8"
      ]
     },
     "execution_count": 12,
     "metadata": {},
     "output_type": "execute_result"
    }
   ],
   "source": [
    "numbers[len(numbers)-1]"
   ]
  },
  {
   "cell_type": "markdown",
   "id": "db276d35",
   "metadata": {},
   "source": [
    "And here's another built-in function; `len` returns the number of elements in a list, or number of characters in a string, or...well, we don't know about dictionaries and tuples and other stuff yet.\n",
    "\n",
    "There are a [bunch of built-in functions](https://docs.python.org/3/library/functions.html). Some are pretty common; some are important to do low-level stuff. Most interesting function (e.g., to do statistics and graphics or run a website or do pretty much anything) are in separate libraries that you import. Or they'll be function you write yourself.\n",
    "\n",
    "Anyway, there's an easier way to get the last element:"
   ]
  },
  {
   "cell_type": "code",
   "execution_count": 13,
   "id": "845686dd",
   "metadata": {},
   "outputs": [
    {
     "data": {
      "text/plain": [
       "8"
      ]
     },
     "execution_count": 13,
     "metadata": {},
     "output_type": "execute_result"
    }
   ],
   "source": [
    "numbers[-1]"
   ]
  },
  {
   "cell_type": "markdown",
   "id": "1a859db8",
   "metadata": {},
   "source": [
    "Try experimenting a bit with other values."
   ]
  },
  {
   "cell_type": "code",
   "execution_count": null,
   "id": "9f403f03",
   "metadata": {},
   "outputs": [],
   "source": []
  },
  {
   "cell_type": "markdown",
   "id": "5542a214",
   "metadata": {},
   "source": [
    "You can also get a **slice** of values:"
   ]
  },
  {
   "cell_type": "code",
   "execution_count": 8,
   "id": "506ddb9c",
   "metadata": {},
   "outputs": [
    {
     "data": {
      "text/plain": [
       "[1, 2, 3]"
      ]
     },
     "execution_count": 8,
     "metadata": {},
     "output_type": "execute_result"
    }
   ],
   "source": [
    "numbers[0:3]"
   ]
  },
  {
   "cell_type": "code",
   "execution_count": 15,
   "id": "1c4a634a",
   "metadata": {},
   "outputs": [
    {
     "data": {
      "text/plain": [
       "[2, 4, 6, 8]"
      ]
     },
     "execution_count": 15,
     "metadata": {},
     "output_type": "execute_result"
    }
   ],
   "source": [
    "numbers[1::2]"
   ]
  },
  {
   "cell_type": "code",
   "execution_count": 16,
   "id": "42d6dab4",
   "metadata": {},
   "outputs": [
    {
     "data": {
      "text/plain": [
       "[8, 7, 6, 5, 4, 3, 2, 1]"
      ]
     },
     "execution_count": 16,
     "metadata": {},
     "output_type": "execute_result"
    }
   ],
   "source": [
    "numbers[::-1]"
   ]
  },
  {
   "cell_type": "markdown",
   "id": "6a4d4bcf",
   "metadata": {},
   "source": [
    "Play with that a bit until you understand what how slices work."
   ]
  },
  {
   "cell_type": "code",
   "execution_count": null,
   "id": "99beb6db",
   "metadata": {},
   "outputs": [],
   "source": []
  },
  {
   "cell_type": "markdown",
   "id": "97f2d22b",
   "metadata": {},
   "source": [
    "## `for` loops\n",
    "\n",
    "Sometimes (read: often) you'll want to do things a lot. Python has a couple types of loops, using the `for` and `while` statements. The first is much more common.\n",
    "\n",
    "The way it works is you give it a variable and a sequence (such as a list, though there are other types) and it runs a set of commands for each element in the sequence, each time setting the variable to that element."
   ]
  },
  {
   "cell_type": "code",
   "execution_count": 23,
   "id": "14bc882e",
   "metadata": {},
   "outputs": [
    {
     "name": "stdout",
     "output_type": "stream",
     "text": [
      "The square of 1 is:\n",
      "  1\n",
      "The square of 2 is:\n",
      "  4\n",
      "The square of 3 is:\n",
      "  9\n",
      "The square of 4 is:\n",
      "  16\n",
      "The square of 5 is:\n",
      "  25\n",
      "The square of 6 is:\n",
      "  36\n",
      "The square of 7 is:\n",
      "  49\n",
      "The square of 8 is:\n",
      "  64\n"
     ]
    }
   ],
   "source": [
    "for n in numbers:\n",
    "    print(\"The square of \" + str(n) + \" is:\")\n",
    "    print(\"  \" + str(n**2))"
   ]
  },
  {
   "cell_type": "markdown",
   "id": "683677bc",
   "metadata": {},
   "source": [
    "Note we used a new function: `str`. It converts something to a string, which we wanted to do because we wanted to concatenate it to another string.\n",
    "\n",
    "The `for` statement is one of a bunch of statements that are work with a block of other statement. All such statements end with a colon, and the following lines are all indented. When the indentation ends, the block ends."
   ]
  },
  {
   "cell_type": "markdown",
   "id": "360ab08c",
   "metadata": {},
   "source": [
    "Since loops over consecutive integers are pretty common, there's a `range` function to help out."
   ]
  },
  {
   "cell_type": "code",
   "execution_count": 25,
   "id": "fad460f5",
   "metadata": {},
   "outputs": [
    {
     "data": {
      "text/plain": [
       "10"
      ]
     },
     "execution_count": 25,
     "metadata": {},
     "output_type": "execute_result"
    }
   ],
   "source": [
    "total = 0\n",
    "for i in range(5):\n",
    "    total += i\n",
    "total"
   ]
  },
  {
   "cell_type": "markdown",
   "id": "89b8e821",
   "metadata": {},
   "source": [
    "If you did the math, you'll note that the range doesn't include the last element, just like the slice above. Let's see what's in the range:"
   ]
  },
  {
   "cell_type": "code",
   "execution_count": 26,
   "id": "b8f79084",
   "metadata": {},
   "outputs": [
    {
     "data": {
      "text/plain": [
       "range(0, 5)"
      ]
     },
     "execution_count": 26,
     "metadata": {},
     "output_type": "execute_result"
    }
   ],
   "source": [
    "range(5)"
   ]
  },
  {
   "cell_type": "markdown",
   "id": "ce410383",
   "metadata": {},
   "source": [
    "That's a little unsatisfying.\n",
    "\n",
    "The thing is, the `range` function doesn't return a list but it's own special type of object. You can convert it to a list, though:"
   ]
  },
  {
   "cell_type": "code",
   "execution_count": 27,
   "id": "276394e9",
   "metadata": {},
   "outputs": [
    {
     "data": {
      "text/plain": [
       "[0, 1, 2, 3, 4]"
      ]
     },
     "execution_count": 27,
     "metadata": {},
     "output_type": "execute_result"
    }
   ],
   "source": [
    "list(range(5))"
   ]
  },
  {
   "cell_type": "markdown",
   "id": "5ddab70b",
   "metadata": {},
   "source": [
    "And just like a slice, you can specify a start value and a step."
   ]
  },
  {
   "cell_type": "code",
   "execution_count": 31,
   "id": "ff9387a3",
   "metadata": {},
   "outputs": [
    {
     "data": {
      "text/plain": [
       "[5, 6, 7, 8, 9]"
      ]
     },
     "execution_count": 31,
     "metadata": {},
     "output_type": "execute_result"
    }
   ],
   "source": [
    "list(range(5, 10))"
   ]
  },
  {
   "cell_type": "code",
   "execution_count": 32,
   "id": "0ca9e3ab",
   "metadata": {},
   "outputs": [
    {
     "data": {
      "text/plain": [
       "[1, 4, 7, 10, 13, 16, 19]"
      ]
     },
     "execution_count": 32,
     "metadata": {},
     "output_type": "execute_result"
    }
   ],
   "source": [
    "list(range(1, 20, 3))"
   ]
  },
  {
   "cell_type": "code",
   "execution_count": 33,
   "id": "98bdf0b2",
   "metadata": {},
   "outputs": [
    {
     "data": {
      "text/plain": [
       "[10, 9, 8, 7, 6, 5, 4, 3, 2]"
      ]
     },
     "execution_count": 33,
     "metadata": {},
     "output_type": "execute_result"
    }
   ],
   "source": [
    "list(range(10, 1, -1))"
   ]
  },
  {
   "cell_type": "markdown",
   "id": "c239b08d",
   "metadata": {},
   "source": [
    "Again, play with that a bit until you understand it."
   ]
  },
  {
   "cell_type": "markdown",
   "id": "d2bef8a4",
   "metadata": {},
   "source": [
    "## `while` loop\n",
    "\n",
    "The other kind of loop, not nearly as common, is the `while` loop. It executes a block of statements as long as some condition is `True`."
   ]
  },
  {
   "cell_type": "code",
   "execution_count": 37,
   "id": "d664c7b7",
   "metadata": {},
   "outputs": [
    {
     "data": {
      "text/plain": [
       "10"
      ]
     },
     "execution_count": 37,
     "metadata": {},
     "output_type": "execute_result"
    }
   ],
   "source": [
    "total = 0\n",
    "i = 0\n",
    "while i < 5:\n",
    "    total += i\n",
    "    i += 1\n",
    "total"
   ]
  },
  {
   "cell_type": "markdown",
   "id": "67acbb96",
   "metadata": {},
   "source": []
  },
  {
   "cell_type": "code",
   "execution_count": null,
   "id": "c0111843",
   "metadata": {},
   "outputs": [],
   "source": []
  }
 ],
 "metadata": {
  "kernelspec": {
   "display_name": "Python 3",
   "language": "python",
   "name": "python3"
  },
  "language_info": {
   "codemirror_mode": {
    "name": "ipython",
    "version": 3
   },
   "file_extension": ".py",
   "mimetype": "text/x-python",
   "name": "python",
   "nbconvert_exporter": "python",
   "pygments_lexer": "ipython3",
   "version": "3.8.8"
  }
 },
 "nbformat": 4,
 "nbformat_minor": 5
}
