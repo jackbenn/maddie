{
 "cells": [
  {
   "cell_type": "markdown",
   "id": "d66de9de-e081-4369-b8e1-8c798b8472c6",
   "metadata": {},
   "source": [
    "# Lists and loops\n",
    "\n",
    "We've covered four types of objects so far. (what are they again?) The next is a **list**, which is a sequence of other objects. Lists are delimited by square brackets."
   ]
  },
  {
   "cell_type": "code",
   "execution_count": 2,
   "id": "6588e3cb-5e53-4b1e-95bd-25ecc24ea83b",
   "metadata": {},
   "outputs": [
    {
     "data": {
      "text/plain": [
       "[1, 2, 3, 4, 5]"
      ]
     },
     "execution_count": 2,
     "metadata": {},
     "output_type": "execute_result"
    }
   ],
   "source": [
    "numbers = [1, 2, 3, 4, 5]\n",
    "numbers"
   ]
  },
  {
   "cell_type": "code",
   "execution_count": null,
   "id": "697b4ada-4a42-4dc6-8ff1-efd733e1449d",
   "metadata": {},
   "outputs": [],
   "source": []
  }
 ],
 "metadata": {
  "kernelspec": {
   "display_name": "Python 3",
   "language": "python",
   "name": "python3"
  },
  "language_info": {
   "codemirror_mode": {
    "name": "ipython",
    "version": 3
   },
   "file_extension": ".py",
   "mimetype": "text/x-python",
   "name": "python",
   "nbconvert_exporter": "python",
   "pygments_lexer": "ipython3",
   "version": "3.8.8"
  }
 },
 "nbformat": 4,
 "nbformat_minor": 5
}
