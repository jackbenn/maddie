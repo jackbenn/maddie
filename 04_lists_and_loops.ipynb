{
 "cells": [
  {
   "cell_type": "markdown",
   "id": "d66de9de-e081-4369-b8e1-8c798b8472c6",
   "metadata": {},
   "source": [
    "# Lists and loops\n",
    "\n",
    "We've covered four types of objects so far. (what are they again?) The next is a **list**, which is a sequence of other objects. Lists are delimited by square brackets."
   ]
  },
  {
   "cell_type": "code",
   "execution_count": 1,
   "id": "6588e3cb-5e53-4b1e-95bd-25ecc24ea83b",
   "metadata": {},
   "outputs": [
    {
     "data": {
      "text/plain": [
       "[1, 2, 3, 4, 5, 6, 7, 8]"
      ]
     },
     "execution_count": 1,
     "metadata": {},
     "output_type": "execute_result"
    }
   ],
   "source": [
    "numbers = [1, 2, 3, 4, 5, 6, 7, 8]\n",
    "numbers"
   ]
  },
  {
   "cell_type": "markdown",
   "id": "d026f576",
   "metadata": {},
   "source": [
    "You can put anything in lists: `float`s, `int`s, `str`s, or `bool`s, or even other `list`s."
   ]
  },
  {
   "cell_type": "code",
   "execution_count": 2,
   "id": "70d5271e",
   "metadata": {},
   "outputs": [
    {
     "data": {
      "text/plain": [
       "[2.1828, 42, 'foo', True, [1, 2, 3]]"
      ]
     },
     "execution_count": 2,
     "metadata": {},
     "output_type": "execute_result"
    }
   ],
   "source": [
    "[2.1828, 42, \"foo\", True, [1, 2, 3]]"
   ]
  },
  {
   "cell_type": "markdown",
   "id": "dbdea24f",
   "metadata": {},
   "source": [
    "You can reference a element of a list using brackets."
   ]
  },
  {
   "cell_type": "code",
   "execution_count": 3,
   "id": "c596fe42",
   "metadata": {},
   "outputs": [
    {
     "data": {
      "text/plain": [
       "3"
      ]
     },
     "execution_count": 3,
     "metadata": {},
     "output_type": "execute_result"
    }
   ],
   "source": [
    "numbers[2]"
   ]
  },
  {
   "cell_type": "markdown",
   "id": "b66e3579",
   "metadata": {},
   "source": [
    "Huh.\n",
    "\n",
    "Python uses **zero-based** indexing: the first element if a list is index 0, the next is index 1, and so on. So the list element is the length of the list minus 1."
   ]
  },
  {
   "cell_type": "code",
   "execution_count": 4,
   "id": "0eaa6a94",
   "metadata": {},
   "outputs": [
    {
     "data": {
      "text/plain": [
       "8"
      ]
     },
     "execution_count": 4,
     "metadata": {},
     "output_type": "execute_result"
    }
   ],
   "source": [
    "numbers[len(numbers)-1]"
   ]
  },
  {
   "cell_type": "markdown",
   "id": "814d200f",
   "metadata": {},
   "source": [
    "And here's another built-in function; `len` returns the number of elements in a list, or number of characters in a string, or...well, we don't know about dictionaries and tuples and other stuff yet.\n",
    "\n",
    "There are a [bunch of built-in functions](https://docs.python.org/3/library/functions.html). Some are pretty common; some are important to do low-level stuff. Most interesting function (e.g., to do statistics and graphics or run a website or do pretty much anything) are in separate libraries that you import. Or they'll be function you write yourself.\n",
    "\n",
    "Anyway, there's an easier way to get the last element:"
   ]
  },
  {
   "cell_type": "code",
   "execution_count": 5,
   "id": "7033a7c5",
   "metadata": {},
   "outputs": [
    {
     "data": {
      "text/plain": [
       "8"
      ]
     },
     "execution_count": 5,
     "metadata": {},
     "output_type": "execute_result"
    }
   ],
   "source": [
    "numbers[-1]"
   ]
  },
  {
   "cell_type": "markdown",
   "id": "714ccb61",
   "metadata": {},
   "source": [
    "Try experimenting a bit with other values."
   ]
  },
  {
   "cell_type": "code",
   "execution_count": null,
   "id": "fb6207bb",
   "metadata": {},
   "outputs": [],
   "source": []
  },
  {
   "cell_type": "markdown",
   "id": "f7930aa9",
   "metadata": {},
   "source": [
    "You can also get a **slice** of values:"
   ]
  },
  {
   "cell_type": "code",
   "execution_count": 6,
   "id": "dcaa7dff",
   "metadata": {},
   "outputs": [
    {
     "data": {
      "text/plain": [
       "[1, 2, 3]"
      ]
     },
     "execution_count": 6,
     "metadata": {},
     "output_type": "execute_result"
    }
   ],
   "source": [
    "numbers[0:3]"
   ]
  },
  {
   "cell_type": "code",
   "execution_count": 7,
   "id": "bf1a5918",
   "metadata": {},
   "outputs": [
    {
     "data": {
      "text/plain": [
       "[2, 4, 6, 8]"
      ]
     },
     "execution_count": 7,
     "metadata": {},
     "output_type": "execute_result"
    }
   ],
   "source": [
    "numbers[1::2]"
   ]
  },
  {
   "cell_type": "code",
   "execution_count": 8,
   "id": "add49424",
   "metadata": {},
   "outputs": [
    {
     "data": {
      "text/plain": [
       "[8, 7, 6, 5, 4, 3, 2, 1]"
      ]
     },
     "execution_count": 8,
     "metadata": {},
     "output_type": "execute_result"
    }
   ],
   "source": [
    "numbers[::-1]"
   ]
  },
  {
   "cell_type": "markdown",
   "id": "57c265c1",
   "metadata": {},
   "source": [
    "Play with that a bit until you understand what how slices work."
   ]
  },
  {
   "cell_type": "code",
   "execution_count": null,
   "id": "c217340d",
   "metadata": {},
   "outputs": [],
   "source": []
  },
  {
   "cell_type": "markdown",
   "id": "4a24a377",
   "metadata": {},
   "source": [
    "In python, `list`s are **mutable** objects, meaning that you can change the data inside the object. Other objects like `int` and `str` are **immutable**, meaning the object never changes, so even if you think you're changing a variable assigned to an integer, you're really just creating a whole new object.\n",
    "\n",
    "The way you change them is through **methods**, while are functions associated with a specific object. For example:"
   ]
  },
  {
   "cell_type": "code",
   "execution_count": 9,
   "id": "eac19626",
   "metadata": {},
   "outputs": [
    {
     "data": {
      "text/plain": [
       "[1, 2, 3, 4, 5, 6, 7, 8, -1]"
      ]
     },
     "execution_count": 9,
     "metadata": {},
     "output_type": "execute_result"
    }
   ],
   "source": [
    "numbers.append(-1)\n",
    "numbers"
   ]
  },
  {
   "cell_type": "code",
   "execution_count": 10,
   "id": "76c5211b",
   "metadata": {},
   "outputs": [
    {
     "data": {
      "text/plain": [
       "[1, 2, 3, 4, 5, 6, 7, 8, -1, 1.5, 2, -42]"
      ]
     },
     "execution_count": 10,
     "metadata": {},
     "output_type": "execute_result"
    }
   ],
   "source": [
    "numbers.extend([1.5, 2, -42])\n",
    "numbers"
   ]
  },
  {
   "cell_type": "code",
   "execution_count": 11,
   "id": "1164e33a",
   "metadata": {},
   "outputs": [
    {
     "data": {
      "text/plain": [
       "[-42, -1, 1, 1.5, 2, 2, 3, 4, 5, 6, 7, 8]"
      ]
     },
     "execution_count": 11,
     "metadata": {},
     "output_type": "execute_result"
    }
   ],
   "source": [
    "numbers.sort()\n",
    "numbers"
   ]
  },
  {
   "cell_type": "raw",
   "id": "b35d7061",
   "metadata": {},
   "source": [
    "You can look at all the methods of an object with `dir`, and find more about it with `help. The ones surrounded by double underscores (called **dunder** nethods) are special; don't worry about them for now. Really, don't worry about most of these, just know that they are there."
   ]
  },
  {
   "cell_type": "code",
   "execution_count": 12,
   "id": "a1ed970c",
   "metadata": {},
   "outputs": [
    {
     "data": {
      "text/plain": [
       "['__add__',\n",
       " '__class__',\n",
       " '__contains__',\n",
       " '__delattr__',\n",
       " '__delitem__',\n",
       " '__dir__',\n",
       " '__doc__',\n",
       " '__eq__',\n",
       " '__format__',\n",
       " '__ge__',\n",
       " '__getattribute__',\n",
       " '__getitem__',\n",
       " '__gt__',\n",
       " '__hash__',\n",
       " '__iadd__',\n",
       " '__imul__',\n",
       " '__init__',\n",
       " '__init_subclass__',\n",
       " '__iter__',\n",
       " '__le__',\n",
       " '__len__',\n",
       " '__lt__',\n",
       " '__mul__',\n",
       " '__ne__',\n",
       " '__new__',\n",
       " '__reduce__',\n",
       " '__reduce_ex__',\n",
       " '__repr__',\n",
       " '__reversed__',\n",
       " '__rmul__',\n",
       " '__setattr__',\n",
       " '__setitem__',\n",
       " '__sizeof__',\n",
       " '__str__',\n",
       " '__subclasshook__',\n",
       " 'append',\n",
       " 'clear',\n",
       " 'copy',\n",
       " 'count',\n",
       " 'extend',\n",
       " 'index',\n",
       " 'insert',\n",
       " 'pop',\n",
       " 'remove',\n",
       " 'reverse',\n",
       " 'sort']"
      ]
     },
     "execution_count": 12,
     "metadata": {},
     "output_type": "execute_result"
    }
   ],
   "source": [
    "dir(numbers)"
   ]
  },
  {
   "cell_type": "code",
   "execution_count": 13,
   "id": "7c271689",
   "metadata": {},
   "outputs": [
    {
     "name": "stdout",
     "output_type": "stream",
     "text": [
      "Help on list object:\n",
      "\n",
      "class list(object)\n",
      " |  list(iterable=(), /)\n",
      " |  \n",
      " |  Built-in mutable sequence.\n",
      " |  \n",
      " |  If no argument is given, the constructor creates a new empty list.\n",
      " |  The argument must be an iterable if specified.\n",
      " |  \n",
      " |  Methods defined here:\n",
      " |  \n",
      " |  __add__(self, value, /)\n",
      " |      Return self+value.\n",
      " |  \n",
      " |  __contains__(self, key, /)\n",
      " |      Return key in self.\n",
      " |  \n",
      " |  __delitem__(self, key, /)\n",
      " |      Delete self[key].\n",
      " |  \n",
      " |  __eq__(self, value, /)\n",
      " |      Return self==value.\n",
      " |  \n",
      " |  __ge__(self, value, /)\n",
      " |      Return self>=value.\n",
      " |  \n",
      " |  __getattribute__(self, name, /)\n",
      " |      Return getattr(self, name).\n",
      " |  \n",
      " |  __getitem__(...)\n",
      " |      x.__getitem__(y) <==> x[y]\n",
      " |  \n",
      " |  __gt__(self, value, /)\n",
      " |      Return self>value.\n",
      " |  \n",
      " |  __iadd__(self, value, /)\n",
      " |      Implement self+=value.\n",
      " |  \n",
      " |  __imul__(self, value, /)\n",
      " |      Implement self*=value.\n",
      " |  \n",
      " |  __init__(self, /, *args, **kwargs)\n",
      " |      Initialize self.  See help(type(self)) for accurate signature.\n",
      " |  \n",
      " |  __iter__(self, /)\n",
      " |      Implement iter(self).\n",
      " |  \n",
      " |  __le__(self, value, /)\n",
      " |      Return self<=value.\n",
      " |  \n",
      " |  __len__(self, /)\n",
      " |      Return len(self).\n",
      " |  \n",
      " |  __lt__(self, value, /)\n",
      " |      Return self<value.\n",
      " |  \n",
      " |  __mul__(self, value, /)\n",
      " |      Return self*value.\n",
      " |  \n",
      " |  __ne__(self, value, /)\n",
      " |      Return self!=value.\n",
      " |  \n",
      " |  __repr__(self, /)\n",
      " |      Return repr(self).\n",
      " |  \n",
      " |  __reversed__(self, /)\n",
      " |      Return a reverse iterator over the list.\n",
      " |  \n",
      " |  __rmul__(self, value, /)\n",
      " |      Return value*self.\n",
      " |  \n",
      " |  __setitem__(self, key, value, /)\n",
      " |      Set self[key] to value.\n",
      " |  \n",
      " |  __sizeof__(self, /)\n",
      " |      Return the size of the list in memory, in bytes.\n",
      " |  \n",
      " |  append(self, object, /)\n",
      " |      Append object to the end of the list.\n",
      " |  \n",
      " |  clear(self, /)\n",
      " |      Remove all items from list.\n",
      " |  \n",
      " |  copy(self, /)\n",
      " |      Return a shallow copy of the list.\n",
      " |  \n",
      " |  count(self, value, /)\n",
      " |      Return number of occurrences of value.\n",
      " |  \n",
      " |  extend(self, iterable, /)\n",
      " |      Extend list by appending elements from the iterable.\n",
      " |  \n",
      " |  index(self, value, start=0, stop=9223372036854775807, /)\n",
      " |      Return first index of value.\n",
      " |      \n",
      " |      Raises ValueError if the value is not present.\n",
      " |  \n",
      " |  insert(self, index, object, /)\n",
      " |      Insert object before index.\n",
      " |  \n",
      " |  pop(self, index=-1, /)\n",
      " |      Remove and return item at index (default last).\n",
      " |      \n",
      " |      Raises IndexError if list is empty or index is out of range.\n",
      " |  \n",
      " |  remove(self, value, /)\n",
      " |      Remove first occurrence of value.\n",
      " |      \n",
      " |      Raises ValueError if the value is not present.\n",
      " |  \n",
      " |  reverse(self, /)\n",
      " |      Reverse *IN PLACE*.\n",
      " |  \n",
      " |  sort(self, /, *, key=None, reverse=False)\n",
      " |      Sort the list in ascending order and return None.\n",
      " |      \n",
      " |      The sort is in-place (i.e. the list itself is modified) and stable (i.e. the\n",
      " |      order of two equal elements is maintained).\n",
      " |      \n",
      " |      If a key function is given, apply it once to each list item and sort them,\n",
      " |      ascending or descending, according to their function values.\n",
      " |      \n",
      " |      The reverse flag can be set to sort in descending order.\n",
      " |  \n",
      " |  ----------------------------------------------------------------------\n",
      " |  Static methods defined here:\n",
      " |  \n",
      " |  __new__(*args, **kwargs) from builtins.type\n",
      " |      Create and return a new object.  See help(type) for accurate signature.\n",
      " |  \n",
      " |  ----------------------------------------------------------------------\n",
      " |  Data and other attributes defined here:\n",
      " |  \n",
      " |  __hash__ = None\n",
      "\n"
     ]
    }
   ],
   "source": [
    "help(numbers)"
   ]
  },
  {
   "cell_type": "markdown",
   "id": "5e24071d",
   "metadata": {},
   "source": [
    "## `for` loops\n",
    "\n",
    "Sometimes (read: often) you'll want to do something multiple times. Python has a couple types of loops, using the `for` and `while` statements. The first is much more common.\n",
    "\n",
    "The way it works is you give it a variable and a sequence (such as a list, though there are other types) and it runs a set of commands for each element in the sequence, each time setting the variable to that element."
   ]
  },
  {
   "cell_type": "code",
   "execution_count": 14,
   "id": "973af99c",
   "metadata": {},
   "outputs": [
    {
     "name": "stdout",
     "output_type": "stream",
     "text": [
      "The square of -42 is:\n",
      "  1764\n",
      "The square of -1 is:\n",
      "  1\n",
      "The square of 1 is:\n",
      "  1\n",
      "The square of 1.5 is:\n",
      "  2.25\n",
      "The square of 2 is:\n",
      "  4\n",
      "The square of 2 is:\n",
      "  4\n",
      "The square of 3 is:\n",
      "  9\n",
      "The square of 4 is:\n",
      "  16\n",
      "The square of 5 is:\n",
      "  25\n",
      "The square of 6 is:\n",
      "  36\n",
      "The square of 7 is:\n",
      "  49\n",
      "The square of 8 is:\n",
      "  64\n"
     ]
    }
   ],
   "source": [
    "for n in numbers:\n",
    "    print(\"The square of \" + str(n) + \" is:\")\n",
    "    print(\"  \" + str(n**2))"
   ]
  },
  {
   "cell_type": "markdown",
   "id": "04d3eab3",
   "metadata": {},
   "source": [
    "Note we used a new function: `str`. It converts something to a string, which we wanted to do because we wanted to concatenate it to another string.\n",
    "\n",
    "The `for` statement is one of a bunch of statements that are work with a block of other statement. All such statements end with a colon, and the following lines are all indented. When the indentation ends, the block ends."
   ]
  },
  {
   "cell_type": "markdown",
   "id": "267913a3",
   "metadata": {},
   "source": [
    "Since loops over consecutive integers are pretty common, there's a `range` function to help out."
   ]
  },
  {
   "cell_type": "code",
   "execution_count": 15,
   "id": "59d44a37",
   "metadata": {},
   "outputs": [
    {
     "data": {
      "text/plain": [
       "10"
      ]
     },
     "execution_count": 15,
     "metadata": {},
     "output_type": "execute_result"
    }
   ],
   "source": [
    "total = 0\n",
    "for i in range(5):\n",
    "    total += i\n",
    "total"
   ]
  },
  {
   "cell_type": "markdown",
   "id": "deae102c",
   "metadata": {},
   "source": [
    "If you did the math, you'll note that the range doesn't include the last element, just like the slice above. Let's see what's in the range:"
   ]
  },
  {
   "cell_type": "code",
   "execution_count": 16,
   "id": "1ee7dc05",
   "metadata": {},
   "outputs": [
    {
     "data": {
      "text/plain": [
       "range(0, 5)"
      ]
     },
     "execution_count": 16,
     "metadata": {},
     "output_type": "execute_result"
    }
   ],
   "source": [
    "range(5)"
   ]
  },
  {
   "cell_type": "markdown",
   "id": "d4b882c8",
   "metadata": {},
   "source": [
    "That's a little unsatisfying.\n",
    "\n",
    "The thing is, the `range` function doesn't return a list but it's own special type of object. You can convert it to a list, though:"
   ]
  },
  {
   "cell_type": "code",
   "execution_count": 17,
   "id": "c0d5e7cc",
   "metadata": {},
   "outputs": [
    {
     "data": {
      "text/plain": [
       "[0, 1, 2, 3, 4]"
      ]
     },
     "execution_count": 17,
     "metadata": {},
     "output_type": "execute_result"
    }
   ],
   "source": [
    "list(range(5))"
   ]
  },
  {
   "cell_type": "markdown",
   "id": "b630272e",
   "metadata": {},
   "source": [
    "And just like a slice, you can specify a start value and a step."
   ]
  },
  {
   "cell_type": "code",
   "execution_count": 18,
   "id": "69f516c2",
   "metadata": {},
   "outputs": [
    {
     "data": {
      "text/plain": [
       "[5, 6, 7, 8, 9]"
      ]
     },
     "execution_count": 18,
     "metadata": {},
     "output_type": "execute_result"
    }
   ],
   "source": [
    "list(range(5, 10))"
   ]
  },
  {
   "cell_type": "code",
   "execution_count": 19,
   "id": "3ba966cf",
   "metadata": {},
   "outputs": [
    {
     "data": {
      "text/plain": [
       "[1, 4, 7, 10, 13, 16, 19]"
      ]
     },
     "execution_count": 19,
     "metadata": {},
     "output_type": "execute_result"
    }
   ],
   "source": [
    "list(range(1, 20, 3))"
   ]
  },
  {
   "cell_type": "code",
   "execution_count": 20,
   "id": "a36d37b3",
   "metadata": {},
   "outputs": [
    {
     "data": {
      "text/plain": [
       "[10, 9, 8, 7, 6, 5, 4, 3, 2]"
      ]
     },
     "execution_count": 20,
     "metadata": {},
     "output_type": "execute_result"
    }
   ],
   "source": [
    "list(range(10, 1, -1))"
   ]
  },
  {
   "cell_type": "markdown",
   "id": "f300eaba",
   "metadata": {},
   "source": [
    "Again, play with that a bit until you understand it."
   ]
  },
  {
   "cell_type": "code",
   "execution_count": null,
   "id": "16110b43",
   "metadata": {},
   "outputs": [],
   "source": []
  },
  {
   "cell_type": "markdown",
   "id": "81875631",
   "metadata": {},
   "source": [
    "You can put loops inside of other loops by indenting another level. Suppose we want to print out a times table."
   ]
  },
  {
   "cell_type": "code",
   "execution_count": 21,
   "id": "cd8b1232",
   "metadata": {},
   "outputs": [
    {
     "name": "stdout",
     "output_type": "stream",
     "text": [
      "1   2   3   4   5   6   7   8   9   \n",
      "2   4   6   8   10   12   14   16   18   \n",
      "3   6   9   12   15   18   21   24   27   \n",
      "4   8   12   16   20   24   28   32   36   \n",
      "5   10   15   20   25   30   35   40   45   \n",
      "6   12   18   24   30   36   42   48   54   \n",
      "7   14   21   28   35   42   49   56   63   \n",
      "8   16   24   32   40   48   56   64   72   \n",
      "9   18   27   36   45   54   63   72   81   \n"
     ]
    }
   ],
   "source": [
    "for i in range(1, 10):\n",
    "    for j in range(1, 10):\n",
    "        print(i * j, \"  \", end='')\n",
    "    print()"
   ]
  },
  {
   "cell_type": "markdown",
   "id": "eb3ce026",
   "metadata": {},
   "source": [
    "That `end=''` is an optional argument telling the `print` statement not to include a newline at the end (the default). We'll cover that later.\n",
    "\n",
    "It looks pretty ugly; there are ways to format it so it's pretty."
   ]
  },
  {
   "cell_type": "code",
   "execution_count": 22,
   "id": "e52199b9",
   "metadata": {},
   "outputs": [
    {
     "name": "stdout",
     "output_type": "stream",
     "text": [
      "   1   2   3   4   5   6   7   8   9\n",
      "   2   4   6   8  10  12  14  16  18\n",
      "   3   6   9  12  15  18  21  24  27\n",
      "   4   8  12  16  20  24  28  32  36\n",
      "   5  10  15  20  25  30  35  40  45\n",
      "   6  12  18  24  30  36  42  48  54\n",
      "   7  14  21  28  35  42  49  56  63\n",
      "   8  16  24  32  40  48  56  64  72\n",
      "   9  18  27  36  45  54  63  72  81\n"
     ]
    }
   ],
   "source": [
    "for i in range(1, 10):\n",
    "    for j in range(1, 10):\n",
    "        print(f\"{i*j:4}\", end='')\n",
    "    print()"
   ]
  },
  {
   "cell_type": "markdown",
   "id": "67276c45",
   "metadata": {},
   "source": [
    "Play around with that until you understand a little about how f-strings works (and/or google it)."
   ]
  },
  {
   "cell_type": "code",
   "execution_count": null,
   "id": "b14ab651",
   "metadata": {},
   "outputs": [],
   "source": []
  },
  {
   "cell_type": "markdown",
   "id": "7ec6e191",
   "metadata": {},
   "source": [
    "## `while` loop\n",
    "\n",
    "The other kind of loop, not nearly as common, is the `while` loop. It executes a block of statements as long as some condition is `True`. So this is equivalent to the `for` loop above."
   ]
  },
  {
   "cell_type": "code",
   "execution_count": 23,
   "id": "3c37b528",
   "metadata": {},
   "outputs": [
    {
     "data": {
      "text/plain": [
       "10"
      ]
     },
     "execution_count": 23,
     "metadata": {},
     "output_type": "execute_result"
    }
   ],
   "source": [
    "total = 0\n",
    "i = 0\n",
    "while i < 5:\n",
    "    total += i\n",
    "    i += 1\n",
    "total"
   ]
  },
  {
   "cell_type": "markdown",
   "id": "f3d0f44d",
   "metadata": {},
   "source": [
    "`while` loops are generally longer (which is why they aren't as common) but sometimes necessary. Don't worry too much about them now."
   ]
  },
  {
   "cell_type": "markdown",
   "id": "9111959d",
   "metadata": {},
   "source": [
    "## `tuple`s"
   ]
  },
  {
   "cell_type": "markdown",
   "id": "2367c814",
   "metadata": {},
   "source": [
    "There's another type of object similar to an list called a [**tuple**](https://en.wikipedia.org/wiki/Tuple). The key difference is that a tuple is immutable, so you can't change it. This makes it a tiny bit more efficient, and a tiny bit safer (in that you don't have to worry about some other bit of code changing it), and useful for a situation later when you need immutable objects.\n",
    "\n",
    "Tuples are created with parentheses instead of square brackets, or nothing at all."
   ]
  },
  {
   "cell_type": "code",
   "execution_count": 24,
   "id": "df2c3cfa",
   "metadata": {},
   "outputs": [
    {
     "data": {
      "text/plain": [
       "(1, 2, 3)"
      ]
     },
     "execution_count": 24,
     "metadata": {},
     "output_type": "execute_result"
    }
   ],
   "source": [
    "t = 1, 2, 3\n",
    "t"
   ]
  },
  {
   "cell_type": "code",
   "execution_count": 25,
   "id": "8cf4065b",
   "metadata": {},
   "outputs": [
    {
     "data": {
      "text/plain": [
       "tuple"
      ]
     },
     "execution_count": 25,
     "metadata": {},
     "output_type": "execute_result"
    }
   ],
   "source": [
    "type(t)"
   ]
  },
  {
   "cell_type": "markdown",
   "id": "6225ae62",
   "metadata": {},
   "source": [
    "To define a one-element tuple you need a trailing comma because...well, I'll let you think about that."
   ]
  },
  {
   "cell_type": "code",
   "execution_count": 26,
   "id": "a9a493f8",
   "metadata": {},
   "outputs": [
    {
     "data": {
      "text/plain": [
       "(1,)"
      ]
     },
     "execution_count": 26,
     "metadata": {},
     "output_type": "execute_result"
    }
   ],
   "source": [
    "t = 1,\n",
    "t"
   ]
  },
  {
   "cell_type": "code",
   "execution_count": null,
   "id": "b7fa7829",
   "metadata": {},
   "outputs": [],
   "source": []
  }
 ],
 "metadata": {
  "kernelspec": {
   "display_name": "Python 3",
   "language": "python",
   "name": "python3"
  },
  "language_info": {
   "codemirror_mode": {
    "name": "ipython",
    "version": 3
   },
   "file_extension": ".py",
   "mimetype": "text/x-python",
   "name": "python",
   "nbconvert_exporter": "python",
   "pygments_lexer": "ipython3",
   "version": "3.8.8"
  }
 },
 "nbformat": 4,
 "nbformat_minor": 5
}
