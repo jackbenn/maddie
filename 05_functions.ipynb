{
 "cells": [
  {
   "cell_type": "markdown",
   "id": "6dccefd0",
   "metadata": {},
   "source": [
    "# Functions\n",
    "\n",
    "One of the most important concepts in programming is a **function**, a bit of reusable code. We already saw a couple built-in functions (what were they again?) and some methods (which are functions attached to an object) but the important thing is that you can define your own. Like `for` and `while` statements, a `def` statement ends with a colon, and the function code is indented. "
   ]
  },
  {
   "cell_type": "code",
   "execution_count": 1,
   "id": "17f39f88",
   "metadata": {},
   "outputs": [],
   "source": [
    "def square(x):\n",
    "    return x ** 2"
   ]
  },
  {
   "cell_type": "markdown",
   "id": "252036d1",
   "metadata": {},
   "source": [
    "A function has zero or more **parameters** (in this case, one) and returns a value. We can now call it like this, passing in an **argument**."
   ]
  },
  {
   "cell_type": "code",
   "execution_count": 2,
   "id": "85d90f3f",
   "metadata": {},
   "outputs": [
    {
     "data": {
      "text/plain": [
       "25"
      ]
     },
     "execution_count": 2,
     "metadata": {},
     "output_type": "execute_result"
    }
   ],
   "source": [
    "square(5)"
   ]
  },
  {
   "cell_type": "markdown",
   "id": "25e67772",
   "metadata": {},
   "source": [
    "Many languages verify the type of variables being passed to functions, but you don't need to worry about in python.\n",
    "\n",
    "Here's a longer example:"
   ]
  },
  {
   "cell_type": "code",
   "execution_count": 3,
   "id": "d2740f4c",
   "metadata": {},
   "outputs": [],
   "source": [
    "def add_numbers(numbers):\n",
    "    \"\"\"Add a list of numbers together.\"\"\"\n",
    "    total = 0\n",
    "    for number in numbers:\n",
    "        total += number\n",
    "    return total"
   ]
  },
  {
   "cell_type": "code",
   "execution_count": 4,
   "id": "cffd746d",
   "metadata": {},
   "outputs": [
    {
     "data": {
      "text/plain": [
       "15"
      ]
     },
     "execution_count": 4,
     "metadata": {},
     "output_type": "execute_result"
    }
   ],
   "source": [
    "add_numbers([1, 2, 3, 4, 5])"
   ]
  },
  {
   "cell_type": "markdown",
   "id": "74dee0ac",
   "metadata": {},
   "source": [
    "One important point is that variables defined inside of a function are **local**, and don't affect anything outside. "
   ]
  },
  {
   "cell_type": "code",
   "execution_count": 5,
   "id": "2362e77b",
   "metadata": {},
   "outputs": [
    {
     "ename": "NameError",
     "evalue": "name 'total' is not defined",
     "output_type": "error",
     "traceback": [
      "\u001b[0;31m---------------------------------------------------------------------------\u001b[0m",
      "\u001b[0;31mNameError\u001b[0m                                 Traceback (most recent call last)",
      "\u001b[0;32m<ipython-input-5-f5f7acea0338>\u001b[0m in \u001b[0;36m<module>\u001b[0;34m\u001b[0m\n\u001b[0;32m----> 1\u001b[0;31m \u001b[0mtotal\u001b[0m\u001b[0;34m\u001b[0m\u001b[0;34m\u001b[0m\u001b[0m\n\u001b[0m",
      "\u001b[0;31mNameError\u001b[0m: name 'total' is not defined"
     ]
    }
   ],
   "source": [
    "total"
   ]
  },
  {
   "cell_type": "markdown",
   "id": "163090f1",
   "metadata": {},
   "source": [
    "See? The variable `total` we defined doesn't exist outside the function. This is important because it lets you treat a function as a black box, only worrying about the input and output, knowing it won't mess everything else up."
   ]
  },
  {
   "cell_type": "markdown",
   "id": "b1f2dae3",
   "metadata": {},
   "source": [
    "You might have noticed that string at the beginning of the function, not really doing anything. That's called a **docstring** and is used to describe the function. It's generally inside sets of three quotes, so it can be spread over multiple lines, but that's not really necessary.\n",
    "\n",
    "The `help` function will display it."
   ]
  },
  {
   "cell_type": "code",
   "execution_count": 6,
   "id": "6bc67c6a",
   "metadata": {},
   "outputs": [
    {
     "name": "stdout",
     "output_type": "stream",
     "text": [
      "Help on function add_numbers in module __main__:\n",
      "\n",
      "add_numbers(numbers)\n",
      "    Add a list of numbers together.\n",
      "\n"
     ]
    }
   ],
   "source": [
    "help(add_numbers)"
   ]
  },
  {
   "cell_type": "markdown",
   "id": "7db6e2c9",
   "metadata": {},
   "source": [
    "You might have noticed I passed a function (`add_numbers`) as an argument to another function (`help`). Weird, huh? In python, functions are just another type of object, like `int`s and `list`s and everything else we've talked about. You can pass them to functions or assign them to variables just like any other object. The thing that's special about a function is that you can follow it with parenthesis and it will call some code and return the result. Think of it a little like how you can follow a list with square brackets to get some element or slide of elements."
   ]
  },
  {
   "cell_type": "markdown",
   "id": "88c1d211",
   "metadata": {},
   "source": [
    "In turns out that wasn't a very exiting function, since a built-in version already exists."
   ]
  },
  {
   "cell_type": "code",
   "execution_count": 7,
   "id": "cd7ca124",
   "metadata": {},
   "outputs": [
    {
     "data": {
      "text/plain": [
       "15"
      ]
     },
     "execution_count": 7,
     "metadata": {},
     "output_type": "execute_result"
    }
   ],
   "source": [
    "sum([1, 2, 3, 4, 5])"
   ]
  },
  {
   "cell_type": "markdown",
   "id": "16e83403",
   "metadata": {},
   "source": [
    "## Recursive functions\n",
    "\n",
    "To help you appreciate the how variables are local let's look at a **recursive function**, that is, a function that calls itself. This can be pretty confusing; if it doesn't make sense let me know. Recursive function aren't that common in python, but understanding them will help you understand other concepts.\n",
    "\n",
    "Suppose you want to write the factorial of a number. One approach (the preferred approach in most languages) is to start set a variable to one, then count up to the number in question, multiplying it by each number. I'll let you write most of it; if you get stuck scroll to the bottom for the answer."
   ]
  },
  {
   "cell_type": "code",
   "execution_count": 8,
   "id": "ae70bf29",
   "metadata": {},
   "outputs": [],
   "source": [
    "def factorial(n):\n",
    "    product = 1\n",
    "    # replace this with some loop, updating product inside of the loop\n",
    "    return product"
   ]
  },
  {
   "cell_type": "markdown",
   "id": "b315f031",
   "metadata": {},
   "source": [
    "Note that line that starts with `#` is a **comment**. Anything after a `#` in a line is ignored; it's their to help other people understand your code. Sometimes \"other people\" is yourself, six months from now, trying to understand what you were thinking. Be kind to your future self.\n",
    "\n",
    "But there's another way to write this function. You might also define factorials by saying the factorial of 0 is 1, and the factorial of any larger integer n is just n times the factorial of n-1. Writing this in code:"
   ]
  },
  {
   "cell_type": "code",
   "execution_count": 9,
   "id": "6b9261b3",
   "metadata": {},
   "outputs": [],
   "source": [
    "def recursive_factorial(n):\n",
    "    if n == 0:\n",
    "        return 1\n",
    "    else:\n",
    "        return n * recursive_factorial(n-1)"
   ]
  },
  {
   "cell_type": "code",
   "execution_count": 10,
   "id": "3e9fcc36",
   "metadata": {},
   "outputs": [
    {
     "data": {
      "text/plain": [
       "720"
      ]
     },
     "execution_count": 10,
     "metadata": {},
     "output_type": "execute_result"
    }
   ],
   "source": [
    "recursive_factorial(6)"
   ]
  },
  {
   "cell_type": "markdown",
   "id": "7c7aa70a",
   "metadata": {},
   "source": [
    "Each invocation of the function has its own copy of the variable `n`, so when you call it above `n` is set to 6, but then it calls a version of itself with `n` set to 6, and so on until it gets to `0` at which point it returns, and returns from then version with `n` euqals 1, and so on, until it returns from the original function call."
   ]
  },
  {
   "cell_type": "markdown",
   "id": "660f6bc2",
   "metadata": {},
   "source": [
    "## Return values\n",
    "\n",
    "The recursive function above has two `return` statements; that's perfectly normal. As soon as a function encounters `return` it's done. If a the computer gets to the end of a function without hitting a `return` statement, it returns a special value called `None` which is the only possible value of an object of type `NoneType`."
   ]
  },
  {
   "cell_type": "code",
   "execution_count": 11,
   "id": "4e523490",
   "metadata": {},
   "outputs": [],
   "source": [
    "def dummy_function():\n",
    "    pass # pass is a special command that means \"do nothing\""
   ]
  },
  {
   "cell_type": "code",
   "execution_count": 12,
   "id": "3179c91c",
   "metadata": {},
   "outputs": [],
   "source": [
    "dummy_function()"
   ]
  },
  {
   "cell_type": "markdown",
   "id": "3168d439",
   "metadata": {},
   "source": [
    "It looks like it didn't return anything at all, but that's just because jupyter doesn't show it."
   ]
  },
  {
   "cell_type": "code",
   "execution_count": 13,
   "id": "d7506dd7",
   "metadata": {},
   "outputs": [
    {
     "name": "stdout",
     "output_type": "stream",
     "text": [
      "None\n"
     ]
    }
   ],
   "source": [
    "print(dummy_function())"
   ]
  },
  {
   "cell_type": "markdown",
   "id": "3c827e73",
   "metadata": {},
   "source": [
    "What if you want to return more than one value? That's not that common, but you can use a tuple for that."
   ]
  },
  {
   "cell_type": "code",
   "execution_count": 14,
   "id": "a85835ac",
   "metadata": {},
   "outputs": [],
   "source": [
    "def min_and_max(numbers):\n",
    "    minimum = maximum = numbers[0] # I didn't explain this but this should make sense\n",
    "    for number in numbers:\n",
    "        if number < minimum:\n",
    "            minimum = number\n",
    "        if number > maximum:\n",
    "            maximum = number\n",
    "    return minimum, maximum"
   ]
  },
  {
   "cell_type": "code",
   "execution_count": 15,
   "id": "a695b79b",
   "metadata": {},
   "outputs": [
    {
     "name": "stdout",
     "output_type": "stream",
     "text": [
      "minimum = 1\n",
      "maximum = 8\n"
     ]
    }
   ],
   "source": [
    "a, b = min_and_max([3,5,2,7,8,1])\n",
    "print(f\"minimum = {a}\")\n",
    "print(f\"maximum = {b}\")"
   ]
  },
  {
   "cell_type": "markdown",
   "id": "241543af",
   "metadata": {},
   "source": [
    "Note how I assigned a pair of variables to a tuple. That's called **unpacking** a tuple and is sometimes useful."
   ]
  },
  {
   "cell_type": "markdown",
   "id": "ab68319c",
   "metadata": {},
   "source": [
    "I should note that when I first wrote this function, I made a mistake and it didn't work. See if you can figure out what I did wrong, and why it gave the answer it did."
   ]
  },
  {
   "cell_type": "code",
   "execution_count": 16,
   "id": "97851bc2",
   "metadata": {},
   "outputs": [],
   "source": [
    "def incorrect_min_and_max(numbers):\n",
    "    minimum = maximum = numbers[0] # I didn't explain this but this should make sense\n",
    "    for number in numbers:\n",
    "        if number < minimum:\n",
    "            minimum = number\n",
    "        if number > maximum:\n",
    "            maximum = number\n",
    "        return minimum, maximum"
   ]
  },
  {
   "cell_type": "code",
   "execution_count": 17,
   "id": "1fb35e92",
   "metadata": {},
   "outputs": [
    {
     "data": {
      "text/plain": [
       "(3, 3)"
      ]
     },
     "execution_count": 17,
     "metadata": {},
     "output_type": "execute_result"
    }
   ],
   "source": [
    "incorrect_min_and_max([3,5,2,7,8,1])"
   ]
  },
  {
   "cell_type": "markdown",
   "id": "fc3a0684",
   "metadata": {},
   "source": [
    "## Keyword and positional arguments\n",
    "\n",
    "As I mentioned, functions can have multiple parameters, though we haven't seen that yet. Let's look at a simple example."
   ]
  },
  {
   "cell_type": "code",
   "execution_count": 18,
   "id": "889aa041",
   "metadata": {},
   "outputs": [],
   "source": [
    "def divide(numerator, denominator):\n",
    "    return numerator / denominator"
   ]
  },
  {
   "cell_type": "markdown",
   "id": "236ad3aa",
   "metadata": {},
   "source": [
    "We'd call in by passing in multiple arguments, the same number as parameters, and they are matched up in order."
   ]
  },
  {
   "cell_type": "code",
   "execution_count": 19,
   "id": "ce14a8c5",
   "metadata": {},
   "outputs": [
    {
     "data": {
      "text/plain": [
       "0.75"
      ]
     },
     "execution_count": 19,
     "metadata": {},
     "output_type": "execute_result"
    }
   ],
   "source": [
    "divide(3, 4)"
   ]
  },
  {
   "cell_type": "markdown",
   "id": "47f71e56",
   "metadata": {},
   "source": [
    "The order is easy to remember here, but some functions have lots of parameters, so we can also use **keyword arguments** (as opposed to **positional arguments**), that work like this:"
   ]
  },
  {
   "cell_type": "code",
   "execution_count": 20,
   "id": "9d894dc0",
   "metadata": {},
   "outputs": [
    {
     "data": {
      "text/plain": [
       "0.6666666666666666"
      ]
     },
     "execution_count": 20,
     "metadata": {},
     "output_type": "execute_result"
    }
   ],
   "source": [
    "divide(denominator=3, numerator=2)"
   ]
  },
  {
   "cell_type": "markdown",
   "id": "718bf2cc",
   "metadata": {},
   "source": [
    "We specify the names of the of parameters. We can even mix these styles; the positional arguments are first matched to parameters, they the keyword arguments are used later."
   ]
  },
  {
   "cell_type": "code",
   "execution_count": 21,
   "id": "ffdf0f71",
   "metadata": {},
   "outputs": [
    {
     "data": {
      "text/plain": [
       "0.7142857142857143"
      ]
     },
     "execution_count": 21,
     "metadata": {},
     "output_type": "execute_result"
    }
   ],
   "source": [
    "divide(5, denominator=7)"
   ]
  },
  {
   "cell_type": "markdown",
   "id": "ca760b4e",
   "metadata": {},
   "source": [
    "You might try playing with this a bit, seeing what happens if you switch that to `numerator` in the above code. Errors are a whole topic that we'll get to later, but for now you should know not to be afraid of them, and try to make them happens to learn how they work and what the output means."
   ]
  },
  {
   "cell_type": "markdown",
   "id": "7098f05f",
   "metadata": {},
   "source": [
    "# Default parameter\n",
    "\n",
    "Sometimes we want to be able to specify defaults.\n",
    "\n",
    "Let's suppose we're calculating the distance between two points. We'll pass each of the points in as lists or tuples and get a usual Euclidean distance back. We'll assume they each have the same number of dimensions."
   ]
  },
  {
   "cell_type": "code",
   "execution_count": 22,
   "id": "bc24cd0d",
   "metadata": {},
   "outputs": [],
   "source": [
    "def distance(a, b):\n",
    "    total = 0\n",
    "    for ai, bi in zip(a, b):\n",
    "        total += (ai - bi) ** 2 \n",
    "    return total ** 0.5"
   ]
  },
  {
   "cell_type": "code",
   "execution_count": 23,
   "id": "91dbdb3a",
   "metadata": {},
   "outputs": [
    {
     "data": {
      "text/plain": [
       "5.0"
      ]
     },
     "execution_count": 23,
     "metadata": {},
     "output_type": "execute_result"
    }
   ],
   "source": [
    "distance((1, 2), (4, 6))"
   ]
  },
  {
   "cell_type": "markdown",
   "id": "9ba6166b",
   "metadata": {},
   "source": [
    "There's some tricky stuff in there with the `zip` function and unpacking the returned tuples into `ai` and `bi`, but I won't get into that no. You can experiment a bit if you'd like. Here's an equivalent that might make more sense:"
   ]
  },
  {
   "cell_type": "code",
   "execution_count": 24,
   "id": "4d829f32",
   "metadata": {},
   "outputs": [],
   "source": [
    "def distance(a, b):\n",
    "    total = 0\n",
    "    for i in range(len(a)):\n",
    "        total += (a[i] - b[i]) ** 2 \n",
    "    return total ** 0.5"
   ]
  },
  {
   "cell_type": "code",
   "execution_count": 25,
   "id": "d3b10e35",
   "metadata": {},
   "outputs": [
    {
     "data": {
      "text/plain": [
       "5.0"
      ]
     },
     "execution_count": 25,
     "metadata": {},
     "output_type": "execute_result"
    }
   ],
   "source": [
    "distance((1, 2), (4, 6))"
   ]
  },
  {
   "cell_type": "markdown",
   "id": "14762ff9",
   "metadata": {},
   "source": [
    "There are other ways to measure distance; Euclidean is really just a special distance of [Minkowski distance](https://en.wikipedia.org/wiki/Minkowski_distance). Suppose we want to write a general function to return any such distance measure. We could add another parameter, `p`, like this:"
   ]
  },
  {
   "cell_type": "code",
   "execution_count": 26,
   "id": "17ff6484",
   "metadata": {},
   "outputs": [],
   "source": [
    "def distance(a, b, p):\n",
    "    total = 0\n",
    "    for ai, bi in zip(a, b):\n",
    "        total += abs((ai - bi) ** p)\n",
    "    return total ** (1/p)"
   ]
  },
  {
   "cell_type": "code",
   "execution_count": 27,
   "id": "c3bffb40",
   "metadata": {},
   "outputs": [
    {
     "data": {
      "text/plain": [
       "5.0"
      ]
     },
     "execution_count": 27,
     "metadata": {},
     "output_type": "execute_result"
    }
   ],
   "source": [
    "distance((1, 2), (4, 6), 2)"
   ]
  },
  {
   "cell_type": "markdown",
   "id": "392a1ae7",
   "metadata": {},
   "source": [
    "Or using `p=1` (sometimes called the L1 distance or the taxicab distance or the Manhattan distance)"
   ]
  },
  {
   "cell_type": "code",
   "execution_count": 28,
   "id": "6e8605ad",
   "metadata": {},
   "outputs": [
    {
     "data": {
      "text/plain": [
       "7.0"
      ]
     },
     "execution_count": 28,
     "metadata": {},
     "output_type": "execute_result"
    }
   ],
   "source": [
    "distance((1, 2), (4, 6), 1)"
   ]
  },
  {
   "cell_type": "markdown",
   "id": "945d28de",
   "metadata": {},
   "source": [
    "That's nice, except it's annoying that we need specify the `p` every time when it will usually be 2. So we can give the parameter a **default value** like this:"
   ]
  },
  {
   "cell_type": "code",
   "execution_count": 29,
   "id": "08a3fdd8",
   "metadata": {},
   "outputs": [],
   "source": [
    "def distance(a, b, p=2):\n",
    "    total = 0\n",
    "    for ai, bi in zip(a, b):\n",
    "        total += abs((ai - bi) ** p)\n",
    "    return total ** 0.5"
   ]
  },
  {
   "cell_type": "markdown",
   "id": "454d799b",
   "metadata": {},
   "source": [
    "Now we can call if with or without specifying `p`."
   ]
  },
  {
   "cell_type": "code",
   "execution_count": 30,
   "id": "fc343fd4",
   "metadata": {},
   "outputs": [
    {
     "data": {
      "text/plain": [
       "5.0"
      ]
     },
     "execution_count": 30,
     "metadata": {},
     "output_type": "execute_result"
    }
   ],
   "source": [
    "distance((0, 0), (3, 4))"
   ]
  },
  {
   "cell_type": "code",
   "execution_count": 31,
   "id": "14054a4f",
   "metadata": {},
   "outputs": [
    {
     "data": {
      "text/plain": [
       "5.0"
      ]
     },
     "execution_count": 31,
     "metadata": {},
     "output_type": "execute_result"
    }
   ],
   "source": [
    "distance((0, 0), (3, 4), 2)"
   ]
  },
  {
   "cell_type": "markdown",
   "id": "31a8c191",
   "metadata": {},
   "source": [
    "## Answers\n",
    "\n",
    "Answer to factorial question earlier."
   ]
  },
  {
   "cell_type": "code",
   "execution_count": 32,
   "id": "bd31d158",
   "metadata": {},
   "outputs": [],
   "source": [
    "def factorial(n):\n",
    "    product = 1\n",
    "    for i in range(1, n+1):\n",
    "        product *= i\n",
    "    return product"
   ]
  },
  {
   "cell_type": "code",
   "execution_count": 33,
   "id": "ffe9e88f",
   "metadata": {},
   "outputs": [
    {
     "data": {
      "text/plain": [
       "120"
      ]
     },
     "execution_count": 33,
     "metadata": {},
     "output_type": "execute_result"
    }
   ],
   "source": [
    "factorial(5)"
   ]
  },
  {
   "cell_type": "markdown",
   "id": "2142ccb7",
   "metadata": {},
   "source": [
    "And if you didn't figure out what I did wrong with `incorrect_min_and_max`: the `return` statement is indented too much, so it's inside the loop, so the function exits on the first iteration of the loop. That's a pretty common mistake."
   ]
  }
 ],
 "metadata": {
  "kernelspec": {
   "display_name": "Python 3",
   "language": "python",
   "name": "python3"
  },
  "language_info": {
   "codemirror_mode": {
    "name": "ipython",
    "version": 3
   },
   "file_extension": ".py",
   "mimetype": "text/x-python",
   "name": "python",
   "nbconvert_exporter": "python",
   "pygments_lexer": "ipython3",
   "version": "3.8.8"
  }
 },
 "nbformat": 4,
 "nbformat_minor": 5
}
