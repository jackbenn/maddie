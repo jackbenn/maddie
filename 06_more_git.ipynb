{
 "cells": [
  {
   "cell_type": "markdown",
   "id": "87d47ed8",
   "metadata": {},
   "source": [
    "# More git\n",
    "\n",
    "I'm going to update the occasionally, so I need to explain how to update your local copy of the code to match what I have here. In general, it's easiest to interact with git through the terminal. There are programming tools you can use that might make it easier, but it's really useful if you do any programming to understand it. One starting point I like to help grok git is this [parable](https://tom.preston-werner.com/2009/05/19/the-git-parable.html). It's a little long and you don't have to read it all now, but it might help you the reasons behind the design of the system, which is a great way to understand how it works.\n",
    "\n",
    "Really, that's true for a lot of things in life, not just for programming but, say, biology and evolution, that understanding the reasons behind why something is the way it is is the best way to understand the system."
   ]
  },
  {
   "cell_type": "markdown",
   "id": "26eaf835",
   "metadata": {},
   "source": [
    "Anyway, the way git works is that all git command-line tools start with `git` followed by a command (like `clone` that you used when you first cloned the repo) followed by some additional options and arguments. I'd like to say the commands are all logical and well organized, but some are a little confusing and not totally consistent, I think because the commands were changed as it was being created.\n",
    "\n",
    "The first and most important command is\n",
    "\n",
    "```sh\n",
    "git status\n",
    "```\n",
    "\n",
    "Try typing it into the terminal right now and see what you get. Note that you have to be in the `maddie` directory (probably do something like `cd ~/git/maddie`, but it depends on exactly where you created it). If you aren't in a directory with a git repo you'll get an error.\n",
    "\n",
    "You might get something like this.\n",
    "\n",
    "```\n",
    "On branch main\n",
    "Your branch is up to date with 'origin/main'.\n",
    "\n",
    "Changes not staged for commit:\n",
    "  (use \"git add <file>...\" to update what will be committed)\n",
    "  (use \"git restore <file>...\" to discard changes in working directory)\n",
    "\tmodified:   05_functions.ipynb\n",
    "\n",
    "nothing added to commit but untracked files present (use \"git add\" to track)\n",
    "```\n",
    "\n",
    "What that means is that I've modified the file `05_functions.ipynb`. If you played around with the files, you probably modified most of them. Depending on when you're doing this, you might want to throw away those changes, following the advise in the message about `git restore`.\n",
    "\n",
    "You don't need to do that unless I've updated the files that you also changed. If you did want to keep your changes that's okay, but it might be a little more work and I'll get to it later.\n",
    "\n",
    "Next you need to get the latest changes with\n",
    "\n",
    "```\n",
    "git pull\n",
    "```\n",
    "\n",
    "This actually does two things: **fetch** the latest changes from github, and then **merge** them into your working directory."
   ]
  },
  {
   "cell_type": "code",
   "execution_count": null,
   "id": "d3d82136",
   "metadata": {},
   "outputs": [],
   "source": []
  }
 ],
 "metadata": {
  "kernelspec": {
   "display_name": "Python 3",
   "language": "python",
   "name": "python3"
  },
  "language_info": {
   "codemirror_mode": {
    "name": "ipython",
    "version": 3
   },
   "file_extension": ".py",
   "mimetype": "text/x-python",
   "name": "python",
   "nbconvert_exporter": "python",
   "pygments_lexer": "ipython3",
   "version": "3.8.8"
  }
 },
 "nbformat": 4,
 "nbformat_minor": 5
}
